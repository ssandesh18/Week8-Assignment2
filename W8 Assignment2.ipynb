{
  "nbformat": 4,
  "nbformat_minor": 0,
  "metadata": {
    "colab": {
      "provenance": []
    },
    "kernelspec": {
      "name": "python3",
      "display_name": "Python 3"
    },
    "language_info": {
      "name": "python"
    }
  },
  "cells": [
    {
      "cell_type": "code",
      "execution_count": null,
      "metadata": {
        "id": "BnvVi2KdUegi"
      },
      "outputs": [],
      "source": []
    },
    {
      "cell_type": "markdown",
      "source": [
        "Q1: What is Matplotlib? Why is it used? Name five plots that can be plotted using the Pyplot module of\n",
        "Matplotlib.\n",
        "Ans.\n",
        "Matplotlib is a Python library that allows users to create visualizations, such as plots, histograms, and bar charts, with a few lines of code:\n",
        "\n",
        "Matplotlib is a plotting library for Python and its numerical mathematics extension NumPy. It's a portmanteau of the words \"MATLAB\", \"plot\", and \"library\".\n",
        "What it can do\n",
        "Matplotlib can create static, interactive, and animated visualizations. You can use it to:\n",
        "Create publication-quality plots\n",
        "Make interactive figures that can zoom, pan, and update\n",
        "Customize visual style and layout\n",
        "Export to many file formats\n",
        "Embed in JupyterLab and Graphical User Interfaces\n",
        "\n",
        "Bar Graph.\n",
        "Pie Chart.\n",
        "Box Plot.\n",
        "Histogram.\n",
        "Line Chart and Subplots.\n",
        "Scatter Plot.\n",
        "can be plotted by using matplotlib\n",
        "\n"
      ],
      "metadata": {
        "id": "4uoH49j1VExn"
      }
    },
    {
      "cell_type": "markdown",
      "source": [
        "Q2: What is a scatter plot? Use the following code to generate data for x and y. Using this generated data\n",
        "plot a scatter plot.\n",
        "import numpy as np\n",
        "np.random.seed(3)\n",
        "x = 3 + np.random.normal(0, 2, 50)\n",
        "y = 3 + np.random.normal(0, 2, len(x))\n",
        "Note: Also add title, xlabel, and ylabel to the plot.\n",
        "\n",
        "Ans.\n",
        "A scatter plot in Python is a visual representation of the relationship between two numeric variables:\n",
        "\n",
        "A scatter plot uses dots to show the relationship between two variables, with one variable on the x-axis and the other on the y-axis. The position of each dot indicates the values for an individual data point.\n",
        "\n",
        "import numpy as np\n",
        "np.random.seed(3)\n",
        "x = 3 + np.random.normal(0, 2, 50)\n",
        "y = 3 + np.random.normal(0, 2, len(x))\n",
        "import matplotlib.pyplot as plt\n",
        "plt.figure(figsize=(6,2))\n",
        "plt.scatter(x,y,c='r')\n",
        "plt.xlabel(\"this is x axis\")\n",
        "plt.ylabel(\"this is y axis\")\n",
        "plt.title(\"this x vs y\")\n",
        "plt.grid()\n",
        "\n",
        "\n",
        "\n"
      ],
      "metadata": {
        "id": "Z6XIDyVjcd_j"
      }
    },
    {
      "cell_type": "markdown",
      "source": [
        "Q3: Why is the subplot() function used? Draw four line plots using the subplot() function.\n",
        "Use the following data:\n",
        "import numpy as np\n",
        "For line 1: x = np.array([0, 1, 2, 3, 4, 5]) and y = np.array([0, 100, 200, 300, 400, 500])\n",
        "For line 2: x = np.array([0, 1, 2, 3, 4, 5]) and y = np.array([50, 20, 40, 20, 60, 70])\n",
        "For line 3: x = np.array([0, 1, 2, 3, 4, 5]) and y = np.array([10, 20, 30, 40, 50, 60])\n",
        "For line 4: x = np.array([0, 1, 2, 3, 4, 5]) and y = np.array([200, 350, 250, 550, 450, 150])\n",
        "Ans.\n",
        "The subplot() function is used to create multiple plots in a single figure, which is useful for comparing and analyzing datasets or variables. The subplot() function is part of the Matplotlib library, which is commonly used for data visualization in Python\n",
        "import numpy as np\n",
        "import matplotlib.pyplot as plt\n",
        "x = np.array([0, 1, 2, 3, 4, 5])\n",
        "y = np.array([0, 100, 200, 300, 400, 500])\n",
        "plt.subplot(1,2,1)\n",
        "plt.plot(x,y)\n",
        "x = np.array([0, 1, 2, 3, 4, 5])\n",
        "y = np.array([50, 20, 40, 20, 60, 70])\n",
        "plt.subplot(1,2,2)\n",
        "plt.plot(x,y)\n",
        "x = np.array([0, 1, 2, 3, 4, 5])\n",
        "y = np.array([10, 20, 30, 40, 50, 60])\n",
        "plt.subplot(2,2,1)\n",
        "plt.plot(x,y)\n",
        "x = np.array([0, 1, 2, 3, 4, 5])\n",
        "y = np.array([200, 350, 250, 550, 450, 150])\n",
        "plt.subplot(2,2,2)\n",
        "plt.plot(x,y)\n",
        "plt.show()\n",
        "\n",
        "\n"
      ],
      "metadata": {
        "id": "TAtziIu6gQ3l"
      }
    },
    {
      "cell_type": "markdown",
      "source": [
        "Q4: What is a bar plot? Why is it used? Using the following data plot a bar plot and a horizontal bar plot.\n",
        "import numpy as np\n",
        "company = np.array([\"Apple\", \"Microsoft\", \"Google\", \"AMD\"])\n",
        "profit = np.array([3000, 8000, 1000, 10000])\n",
        "\n",
        "A bar plot in Python is a data visualization technique that uses rectangular bars to represent data:\n",
        "Height: The height of each bar represents the value of a data point.\n",
        "Width: The width of each bar represents the category of the data.\n",
        "Axes: One axis of the plot shows the categories being compared, and the other axis represents a measured value.\n",
        "The Matplotlib library in Python is commonly used to create bar plots. The bar() function in Matplotlib returns a chart that represents categorical data using vertical bars.\n",
        "import numpy as np\n",
        "import matplotlib.pyplot as plt\n",
        "1. plt.figure(figsize=(5,3))\n",
        "plt.bar(company,profit,color='r')\n",
        "plt.xlabel(\"company\")\n",
        "plt.ylabel(\"profit\")\n",
        "plt.title(\"this bar plot\")\n",
        "plt.grid()\n",
        "\n",
        "2. plt.figure(figsize=(5,3))\n",
        "plt.barh(company,profit,color='r')\n",
        "plt.xlabel(\"company\")\n",
        "plt.ylabel(\"profit\")\n",
        "plt.title(\"this bar plot\")\n",
        "plt.grid()\n"
      ],
      "metadata": {
        "id": "ab2X-tsRinth"
      }
    },
    {
      "cell_type": "markdown",
      "source": [
        "Q5: What is a box plot? Why is it used? Using the following data plot a box plot.\n",
        "box1 = np.random.normal(100, 10, 200)\n",
        "box2 = np.random.normal(90, 20, 200)\n",
        "\n",
        "Ans.\n",
        "A box plot in Python is a data visualization technique that summarizes numeric data using five numbers: the minimum, first quartile, median, third quartile, and maximum:\n",
        "Purpose\n",
        "Box plots are used to show how data is distributed, especially when comparing multiple groups. They can provide high-level information about a group of data's symmetry, skew, variance, and outliers.\n",
        "\n",
        "import numpy as np\n",
        "import matplotlib.pyplot as plt\n",
        "box1 = np.random.normal(100, 10, 200)\n",
        "box2 = np.random.normal(90, 20, 200)\n",
        "plt.boxplot([box1,box2])\n",
        "plt.show()"
      ],
      "metadata": {
        "id": "N-c1heAEjj7L"
      }
    },
    {
      "cell_type": "code",
      "source": [],
      "metadata": {
        "id": "O6CXTvOjdJ1e"
      },
      "execution_count": null,
      "outputs": []
    }
  ]
}